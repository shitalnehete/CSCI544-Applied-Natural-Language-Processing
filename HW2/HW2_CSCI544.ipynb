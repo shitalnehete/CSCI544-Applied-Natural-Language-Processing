{
  "cells": [
    {
      "cell_type": "markdown",
      "metadata": {
        "id": "Y0sYzVIMeNvp"
      },
      "source": [
        "TASK #1 VOCALBULARY"
      ]
    },
    {
      "cell_type": "code",
      "execution_count": 1,
      "metadata": {
        "id": "JG5C9EnbwtWv"
      },
      "outputs": [],
      "source": [
        "import numpy as np"
      ]
    },
    {
      "cell_type": "code",
      "execution_count": 2,
      "metadata": {
        "colab": {
          "base_uri": "https://localhost:8080/"
        },
        "id": "6Vc3oTX3Umgw",
        "outputId": "dca5c47b-4a09-41a8-903e-c0929556c37b"
      },
      "outputs": [
        {
          "output_type": "stream",
          "name": "stdout",
          "text": [
            "Mounted at /content/drive\n"
          ]
        }
      ],
      "source": [
        "import pandas as pd\n",
        "from google.colab import drive\n",
        "drive.mount(\"/content/drive\")\n",
        "train=pd.read_csv('/content/drive/My Drive/Colab Notebooks/HW2-CSCI544/train', sep='\\t', names = ['index', 'word', 'pos'])"
      ]
    },
    {
      "cell_type": "code",
      "execution_count": 3,
      "metadata": {
        "id": "BZuCtBFEb5m5"
      },
      "outputs": [],
      "source": [
        "vocab_dict = train['word'].value_counts().to_dict()"
      ]
    },
    {
      "cell_type": "code",
      "execution_count": 4,
      "metadata": {
        "id": "8_OoeRaMbUIJ"
      },
      "outputs": [],
      "source": [
        "vocabulary = pd.DataFrame({'word': ['<unk>'], 'index': [0], 'frequency': [0]})"
      ]
    },
    {
      "cell_type": "code",
      "execution_count": 5,
      "metadata": {
        "id": "z0jcKWxyciLm"
      },
      "outputs": [],
      "source": [
        "count=0\n",
        "for st, val in vocab_dict.items():\n",
        "  if val>=3:\n",
        "    count+=1\n",
        "    new_row=pd.DataFrame({'word': [st], 'index': [count], 'frequency': [val]})\n",
        "    vocabulary = pd.concat([vocabulary, new_row], axis=0)\n",
        "  else:\n",
        "    vocabulary.iloc[0,2] += val\n",
        "vocabulary=vocabulary.reset_index(drop=True)"
      ]
    },
    {
      "cell_type": "code",
      "execution_count": 6,
      "metadata": {
        "colab": {
          "base_uri": "https://localhost:8080/",
          "height": 424
        },
        "id": "D_koDIS48L3b",
        "outputId": "ac539399-d6eb-470c-c061-f7e9c3df6048"
      },
      "outputs": [
        {
          "output_type": "execute_result",
          "data": {
            "text/plain": [
              "            word  index  frequency\n",
              "0          <unk>      0      32537\n",
              "1              ,      1      46476\n",
              "2            the      2      39533\n",
              "3              .      3      37452\n",
              "4             of      4      22104\n",
              "...          ...    ...        ...\n",
              "16915  Bulgarian  16915          3\n",
              "16916    markkaa  16916          3\n",
              "16917  Therefore  16917          3\n",
              "16918  injecting  16918          3\n",
              "16919  appliance  16919          3\n",
              "\n",
              "[16920 rows x 3 columns]"
            ],
            "text/html": [
              "\n",
              "  <div id=\"df-c3f914ad-9c05-4529-aff1-dbd82e6c6a7c\">\n",
              "    <div class=\"colab-df-container\">\n",
              "      <div>\n",
              "<style scoped>\n",
              "    .dataframe tbody tr th:only-of-type {\n",
              "        vertical-align: middle;\n",
              "    }\n",
              "\n",
              "    .dataframe tbody tr th {\n",
              "        vertical-align: top;\n",
              "    }\n",
              "\n",
              "    .dataframe thead th {\n",
              "        text-align: right;\n",
              "    }\n",
              "</style>\n",
              "<table border=\"1\" class=\"dataframe\">\n",
              "  <thead>\n",
              "    <tr style=\"text-align: right;\">\n",
              "      <th></th>\n",
              "      <th>word</th>\n",
              "      <th>index</th>\n",
              "      <th>frequency</th>\n",
              "    </tr>\n",
              "  </thead>\n",
              "  <tbody>\n",
              "    <tr>\n",
              "      <th>0</th>\n",
              "      <td>&lt;unk&gt;</td>\n",
              "      <td>0</td>\n",
              "      <td>32537</td>\n",
              "    </tr>\n",
              "    <tr>\n",
              "      <th>1</th>\n",
              "      <td>,</td>\n",
              "      <td>1</td>\n",
              "      <td>46476</td>\n",
              "    </tr>\n",
              "    <tr>\n",
              "      <th>2</th>\n",
              "      <td>the</td>\n",
              "      <td>2</td>\n",
              "      <td>39533</td>\n",
              "    </tr>\n",
              "    <tr>\n",
              "      <th>3</th>\n",
              "      <td>.</td>\n",
              "      <td>3</td>\n",
              "      <td>37452</td>\n",
              "    </tr>\n",
              "    <tr>\n",
              "      <th>4</th>\n",
              "      <td>of</td>\n",
              "      <td>4</td>\n",
              "      <td>22104</td>\n",
              "    </tr>\n",
              "    <tr>\n",
              "      <th>...</th>\n",
              "      <td>...</td>\n",
              "      <td>...</td>\n",
              "      <td>...</td>\n",
              "    </tr>\n",
              "    <tr>\n",
              "      <th>16915</th>\n",
              "      <td>Bulgarian</td>\n",
              "      <td>16915</td>\n",
              "      <td>3</td>\n",
              "    </tr>\n",
              "    <tr>\n",
              "      <th>16916</th>\n",
              "      <td>markkaa</td>\n",
              "      <td>16916</td>\n",
              "      <td>3</td>\n",
              "    </tr>\n",
              "    <tr>\n",
              "      <th>16917</th>\n",
              "      <td>Therefore</td>\n",
              "      <td>16917</td>\n",
              "      <td>3</td>\n",
              "    </tr>\n",
              "    <tr>\n",
              "      <th>16918</th>\n",
              "      <td>injecting</td>\n",
              "      <td>16918</td>\n",
              "      <td>3</td>\n",
              "    </tr>\n",
              "    <tr>\n",
              "      <th>16919</th>\n",
              "      <td>appliance</td>\n",
              "      <td>16919</td>\n",
              "      <td>3</td>\n",
              "    </tr>\n",
              "  </tbody>\n",
              "</table>\n",
              "<p>16920 rows × 3 columns</p>\n",
              "</div>\n",
              "      <button class=\"colab-df-convert\" onclick=\"convertToInteractive('df-c3f914ad-9c05-4529-aff1-dbd82e6c6a7c')\"\n",
              "              title=\"Convert this dataframe to an interactive table.\"\n",
              "              style=\"display:none;\">\n",
              "        \n",
              "  <svg xmlns=\"http://www.w3.org/2000/svg\" height=\"24px\"viewBox=\"0 0 24 24\"\n",
              "       width=\"24px\">\n",
              "    <path d=\"M0 0h24v24H0V0z\" fill=\"none\"/>\n",
              "    <path d=\"M18.56 5.44l.94 2.06.94-2.06 2.06-.94-2.06-.94-.94-2.06-.94 2.06-2.06.94zm-11 1L8.5 8.5l.94-2.06 2.06-.94-2.06-.94L8.5 2.5l-.94 2.06-2.06.94zm10 10l.94 2.06.94-2.06 2.06-.94-2.06-.94-.94-2.06-.94 2.06-2.06.94z\"/><path d=\"M17.41 7.96l-1.37-1.37c-.4-.4-.92-.59-1.43-.59-.52 0-1.04.2-1.43.59L10.3 9.45l-7.72 7.72c-.78.78-.78 2.05 0 2.83L4 21.41c.39.39.9.59 1.41.59.51 0 1.02-.2 1.41-.59l7.78-7.78 2.81-2.81c.8-.78.8-2.07 0-2.86zM5.41 20L4 18.59l7.72-7.72 1.47 1.35L5.41 20z\"/>\n",
              "  </svg>\n",
              "      </button>\n",
              "      \n",
              "  <style>\n",
              "    .colab-df-container {\n",
              "      display:flex;\n",
              "      flex-wrap:wrap;\n",
              "      gap: 12px;\n",
              "    }\n",
              "\n",
              "    .colab-df-convert {\n",
              "      background-color: #E8F0FE;\n",
              "      border: none;\n",
              "      border-radius: 50%;\n",
              "      cursor: pointer;\n",
              "      display: none;\n",
              "      fill: #1967D2;\n",
              "      height: 32px;\n",
              "      padding: 0 0 0 0;\n",
              "      width: 32px;\n",
              "    }\n",
              "\n",
              "    .colab-df-convert:hover {\n",
              "      background-color: #E2EBFA;\n",
              "      box-shadow: 0px 1px 2px rgba(60, 64, 67, 0.3), 0px 1px 3px 1px rgba(60, 64, 67, 0.15);\n",
              "      fill: #174EA6;\n",
              "    }\n",
              "\n",
              "    [theme=dark] .colab-df-convert {\n",
              "      background-color: #3B4455;\n",
              "      fill: #D2E3FC;\n",
              "    }\n",
              "\n",
              "    [theme=dark] .colab-df-convert:hover {\n",
              "      background-color: #434B5C;\n",
              "      box-shadow: 0px 1px 3px 1px rgba(0, 0, 0, 0.15);\n",
              "      filter: drop-shadow(0px 1px 2px rgba(0, 0, 0, 0.3));\n",
              "      fill: #FFFFFF;\n",
              "    }\n",
              "  </style>\n",
              "\n",
              "      <script>\n",
              "        const buttonEl =\n",
              "          document.querySelector('#df-c3f914ad-9c05-4529-aff1-dbd82e6c6a7c button.colab-df-convert');\n",
              "        buttonEl.style.display =\n",
              "          google.colab.kernel.accessAllowed ? 'block' : 'none';\n",
              "\n",
              "        async function convertToInteractive(key) {\n",
              "          const element = document.querySelector('#df-c3f914ad-9c05-4529-aff1-dbd82e6c6a7c');\n",
              "          const dataTable =\n",
              "            await google.colab.kernel.invokeFunction('convertToInteractive',\n",
              "                                                     [key], {});\n",
              "          if (!dataTable) return;\n",
              "\n",
              "          const docLinkHtml = 'Like what you see? Visit the ' +\n",
              "            '<a target=\"_blank\" href=https://colab.research.google.com/notebooks/data_table.ipynb>data table notebook</a>'\n",
              "            + ' to learn more about interactive tables.';\n",
              "          element.innerHTML = '';\n",
              "          dataTable['output_type'] = 'display_data';\n",
              "          await google.colab.output.renderOutput(dataTable, element);\n",
              "          const docLink = document.createElement('div');\n",
              "          docLink.innerHTML = docLinkHtml;\n",
              "          element.appendChild(docLink);\n",
              "        }\n",
              "      </script>\n",
              "    </div>\n",
              "  </div>\n",
              "  "
            ]
          },
          "metadata": {},
          "execution_count": 6
        }
      ],
      "source": [
        "vocabulary"
      ]
    },
    {
      "cell_type": "code",
      "execution_count": 7,
      "metadata": {
        "colab": {
          "base_uri": "https://localhost:8080/"
        },
        "id": "hEJDOQ1WtgtY",
        "outputId": "6f947651-b54c-4258-89f4-f8832a8dc966"
      },
      "outputs": [
        {
          "output_type": "stream",
          "name": "stdout",
          "text": [
            "The threshold frequency for vocabulary is 3\n"
          ]
        }
      ],
      "source": [
        "print(\"The threshold frequency for vocabulary is 3\")"
      ]
    },
    {
      "cell_type": "code",
      "execution_count": 8,
      "metadata": {
        "id": "vItxD4yWGn7V"
      },
      "outputs": [],
      "source": [
        "vocabulary.to_csv('/content/vocab.txt',sep='\\t')"
      ]
    },
    {
      "cell_type": "markdown",
      "metadata": {
        "id": "ehujZF45e96L"
      },
      "source": [
        "TASK #2 PROBABILITIES"
      ]
    },
    {
      "cell_type": "code",
      "execution_count": 9,
      "metadata": {
        "id": "5xp_W4uSwrM7"
      },
      "outputs": [],
      "source": [
        "train['word_count'] = train.groupby('word')[\"word\"].transform('size')"
      ]
    },
    {
      "cell_type": "code",
      "execution_count": 10,
      "metadata": {
        "id": "-BBCQeA3w1qK"
      },
      "outputs": [],
      "source": [
        "train['word'] = train.apply(lambda x : '<unk>' if x['word_count']<3 else x['word'], axis = 1)"
      ]
    },
    {
      "cell_type": "code",
      "execution_count": 11,
      "metadata": {
        "id": "rxp4afL21vcb"
      },
      "outputs": [],
      "source": [
        "df_pos_tag = train['pos'].value_counts().rename_axis('pos').reset_index(name = 'count')\n",
        "pos_dict = dict(df_pos_tag.values)\n",
        "pos_tags = df_pos_tag.pos.tolist()"
      ]
    },
    {
      "cell_type": "code",
      "execution_count": 12,
      "metadata": {
        "id": "PmHBQEizyYXv"
      },
      "outputs": [],
      "source": [
        "train_sentences = []\n",
        "train_sentence = []\n",
        "first_sentence = 1\n",
        "for train_row in train.itertuples():\n",
        "    if(train_row.index == 1 and first_sentence == 0):\n",
        "        train_sentences.append(train_sentence)\n",
        "        train_sentence = []\n",
        "    first_sentence = 0\n",
        "    train_sentence.append((train_row.word, train_row.pos))\n",
        "train_sentences.append(train_sentence)"
      ]
    },
    {
      "cell_type": "code",
      "execution_count": 13,
      "metadata": {
        "id": "MZGz9n9VHh0S"
      },
      "outputs": [],
      "source": [
        "def generate_start_probability(df, pos_tags):\n",
        "    tags_start = {}\n",
        "    total_tags_start = 0\n",
        "\n",
        "    for tag in pos_tags:\n",
        "      tags_start[tag]=0\n",
        "    \n",
        "    for df_row_tuple in df.itertuples():\n",
        "        if(df_row_tuple.index == 1):\n",
        "            tags_start[df_row_tuple.pos] += + 1\n",
        "            total_tags_start += 1\n",
        "    \n",
        "    start_prob = {}\n",
        "    for key in tags_start:\n",
        "        start_prob[key] = tags_start[key] / total_tags_start\n",
        "    \n",
        "    return start_prob"
      ]
    },
    {
      "cell_type": "code",
      "execution_count": 14,
      "metadata": {
        "id": "SHhf4VSP273d"
      },
      "outputs": [],
      "source": [
        "def calculate_tp(pos_tags, sentences, start_prob):\n",
        "  tp_matrix = np.zeros((len(pos_tags),len(pos_tags)))\n",
        "  pos_tag_count_dict={}\n",
        "\n",
        "  for sentence in sentences:\n",
        "    for i in range(len(sentence)):\n",
        "      pos_tag_count_dict[pos_tags.index(sentence[i][1])] = pos_tag_count_dict.get(pos_tags.index(sentence[i][1]), 0) + 1\n",
        "      if i==0: continue\n",
        "      tp_matrix[pos_tags.index(sentence[i - 1][1])][pos_tags.index(sentence[i][1])]+=1\n",
        "  \n",
        "  for i in range(len(pos_tags)):\n",
        "    for j in range(len(pos_tags)):\n",
        "       if tp_matrix[i][j]==0:\n",
        "         tp_matrix[i][j]=1e-10\n",
        "       else: \n",
        "         tp_matrix[i][j] = tp_matrix[i][j]/pos_tag_count_dict[i]\n",
        "  \n",
        "  pos_tags_dict=dict(enumerate(pos_tags))\n",
        "\n",
        "  tp_dict={}\n",
        "\n",
        "  for i in range(len(pos_tags_dict)):\n",
        "    for j in range(len(pos_tags_dict)):\n",
        "      tp_dict[pos_tags_dict[i]+\" \"+pos_tags_dict[j]] = tp_matrix[i][j]\n",
        "\n",
        "  for i in range(len(pos_tags_dict)):\n",
        "    tp_dict[\"<start>\"+\" \"+pos_tags_dict[i]] = start_prob[pos_tags_dict[i]]\n",
        "\n",
        "  return [tp_matrix, tp_dict]"
      ]
    },
    {
      "cell_type": "code",
      "execution_count": 15,
      "metadata": {
        "id": "2-LWBO8oB4Pq"
      },
      "outputs": [],
      "source": [
        "def calculate_ep(pos_tags, words, sentences):\n",
        "  ep_matrix = np.zeros((len(pos_tags), len(words)))\n",
        "  pos_tag_count_dict={}\n",
        "\n",
        "  for sentence in sentences:\n",
        "    for word, pos_tag in sentence:\n",
        "      pos_tag_count_dict[pos_tags.index(pos_tag)] = pos_tag_count_dict.get(pos_tags.index(pos_tag), 0) + 1\n",
        "      ep_matrix[pos_tags.index(pos_tag)][words.index(word)] += 1\n",
        "  # print(ep_matrix[])\n",
        "  for i in range(len(pos_tags)):\n",
        "    for j in range(len(words)):\n",
        "      if ep_matrix[i][j]==0:\n",
        "        ep_matrix[i][j]=1e-10\n",
        "      else:\n",
        "         ep_matrix[i][j] =  ep_matrix[i][j]/pos_tag_count_dict[i]\n",
        "  print(ep_matrix[pos_tags.index(\"DT\")][words.index(\"The\")])\n",
        "\n",
        "  pos_tags_dict=dict(enumerate(pos_tags))\n",
        "\n",
        "  ep_dict={}\n",
        "\n",
        "  for i in range(len(pos_tags_dict)):\n",
        "    for j in range(len(words)):\n",
        "      ep_dict[pos_tags_dict[i]+\" \"+words[j]] = ep_matrix[i][j] \n",
        "\n",
        "  return [ep_matrix, ep_dict]\n"
      ]
    },
    {
      "cell_type": "code",
      "execution_count": 16,
      "metadata": {
        "id": "293vUmnIIlqA"
      },
      "outputs": [],
      "source": [
        "start_prob = generate_start_probability(train, pos_dict)"
      ]
    },
    {
      "cell_type": "code",
      "execution_count": 17,
      "metadata": {
        "id": "8uEXInoF8x6-"
      },
      "outputs": [],
      "source": [
        "tp_matrix, tp_dict = calculate_tp(pos_tags, train_sentences, start_prob)"
      ]
    },
    {
      "cell_type": "code",
      "execution_count": 18,
      "metadata": {
        "colab": {
          "base_uri": "https://localhost:8080/"
        },
        "id": "CkQZRd1C8zhj",
        "outputId": "ff02e613-6dab-4c4a-cc14-880584fab3a0"
      },
      "outputs": [
        {
          "output_type": "stream",
          "name": "stdout",
          "text": [
            "0.08304665185655348\n"
          ]
        }
      ],
      "source": [
        "ep_matrix, ep_dict= calculate_ep(pos_tags, vocabulary['word'].tolist(), train_sentences)"
      ]
    },
    {
      "cell_type": "code",
      "execution_count": 19,
      "metadata": {
        "colab": {
          "base_uri": "https://localhost:8080/"
        },
        "id": "_7CGpdWE8uez",
        "outputId": "e4cc2a58-0e33-4e3e-fd07-a0768e423c43"
      },
      "outputs": [
        {
          "output_type": "execute_result",
          "data": {
            "text/plain": [
              "761400"
            ]
          },
          "metadata": {},
          "execution_count": 19
        }
      ],
      "source": [
        "len(ep_dict)"
      ]
    },
    {
      "cell_type": "code",
      "execution_count": 20,
      "metadata": {
        "colab": {
          "base_uri": "https://localhost:8080/"
        },
        "id": "joHKMFfm8xQG",
        "outputId": "7d2d3766-9edd-471b-aa85-1a1baf4b2bc6"
      },
      "outputs": [
        {
          "output_type": "execute_result",
          "data": {
            "text/plain": [
              "2070"
            ]
          },
          "metadata": {},
          "execution_count": 20
        }
      ],
      "source": [
        "len(tp_dict)"
      ]
    },
    {
      "cell_type": "code",
      "execution_count": 21,
      "metadata": {
        "id": "JRMLLvIbG8Ub"
      },
      "outputs": [],
      "source": [
        "import json\n",
        "with open(\"/content/hmm.json\", \"w\") as outfile:\n",
        "    json.dump(tp_dict, outfile)\n",
        "    outfile.write('\\n')\n",
        "    json.dump(ep_dict, outfile)"
      ]
    },
    {
      "cell_type": "markdown",
      "metadata": {
        "id": "w8PmrR22fGh1"
      },
      "source": [
        "TASK #3 GREEDY DECODING"
      ]
    },
    {
      "cell_type": "code",
      "execution_count": 22,
      "metadata": {
        "id": "ZNyjO_xFJW78"
      },
      "outputs": [],
      "source": [
        "dev=pd.read_csv('/content/drive/My Drive/Colab Notebooks/HW2-CSCI544/dev', sep='\\t', names = ['index', 'word', 'pos'])"
      ]
    },
    {
      "cell_type": "code",
      "execution_count": 23,
      "metadata": {
        "id": "2_Viwy8HUlRn"
      },
      "outputs": [],
      "source": [
        "dev_sentences = []\n",
        "dev_sentence = []\n",
        "first_sentence = 1\n",
        "for dev_row in dev.itertuples():\n",
        "    if(dev_row.index == 1 and first_sentence == 0):\n",
        "        dev_sentences.append(dev_sentence)\n",
        "        dev_sentence = []\n",
        "    first_sentence = 0\n",
        "    dev_sentence.append((dev_row.word, dev_row.pos))\n",
        "dev_sentences.append(dev_sentence)"
      ]
    },
    {
      "cell_type": "code",
      "execution_count": 24,
      "metadata": {
        "colab": {
          "base_uri": "https://localhost:8080/"
        },
        "id": "nJI4mNZoVAfe",
        "outputId": "3707e513-6dd3-4ecb-f2ed-618d1586aed4"
      },
      "outputs": [
        {
          "output_type": "execute_result",
          "data": {
            "text/plain": [
              "5527"
            ]
          },
          "metadata": {},
          "execution_count": 24
        }
      ],
      "source": [
        "len(dev_sentences)"
      ]
    },
    {
      "cell_type": "code",
      "execution_count": 25,
      "metadata": {
        "colab": {
          "base_uri": "https://localhost:8080/",
          "height": 424
        },
        "id": "XN3Q_FZJO51I",
        "outputId": "c20cdd1a-1892-473e-e0f3-4113f2739d56"
      },
      "outputs": [
        {
          "output_type": "execute_result",
          "data": {
            "text/plain": [
              "        index          word  pos\n",
              "0           1           The   DT\n",
              "1           2       Arizona  NNP\n",
              "2           3  Corporations  NNP\n",
              "3           4    Commission  NNP\n",
              "4           5    authorized  VBD\n",
              "...       ...           ...  ...\n",
              "131763     13          join   VB\n",
              "131764     14           the   DT\n",
              "131765     15       winning  VBG\n",
              "131766     16        bidder   NN\n",
              "131767     17             .    .\n",
              "\n",
              "[131768 rows x 3 columns]"
            ],
            "text/html": [
              "\n",
              "  <div id=\"df-6eb8766b-06e8-46a9-a5c0-8b176f100474\">\n",
              "    <div class=\"colab-df-container\">\n",
              "      <div>\n",
              "<style scoped>\n",
              "    .dataframe tbody tr th:only-of-type {\n",
              "        vertical-align: middle;\n",
              "    }\n",
              "\n",
              "    .dataframe tbody tr th {\n",
              "        vertical-align: top;\n",
              "    }\n",
              "\n",
              "    .dataframe thead th {\n",
              "        text-align: right;\n",
              "    }\n",
              "</style>\n",
              "<table border=\"1\" class=\"dataframe\">\n",
              "  <thead>\n",
              "    <tr style=\"text-align: right;\">\n",
              "      <th></th>\n",
              "      <th>index</th>\n",
              "      <th>word</th>\n",
              "      <th>pos</th>\n",
              "    </tr>\n",
              "  </thead>\n",
              "  <tbody>\n",
              "    <tr>\n",
              "      <th>0</th>\n",
              "      <td>1</td>\n",
              "      <td>The</td>\n",
              "      <td>DT</td>\n",
              "    </tr>\n",
              "    <tr>\n",
              "      <th>1</th>\n",
              "      <td>2</td>\n",
              "      <td>Arizona</td>\n",
              "      <td>NNP</td>\n",
              "    </tr>\n",
              "    <tr>\n",
              "      <th>2</th>\n",
              "      <td>3</td>\n",
              "      <td>Corporations</td>\n",
              "      <td>NNP</td>\n",
              "    </tr>\n",
              "    <tr>\n",
              "      <th>3</th>\n",
              "      <td>4</td>\n",
              "      <td>Commission</td>\n",
              "      <td>NNP</td>\n",
              "    </tr>\n",
              "    <tr>\n",
              "      <th>4</th>\n",
              "      <td>5</td>\n",
              "      <td>authorized</td>\n",
              "      <td>VBD</td>\n",
              "    </tr>\n",
              "    <tr>\n",
              "      <th>...</th>\n",
              "      <td>...</td>\n",
              "      <td>...</td>\n",
              "      <td>...</td>\n",
              "    </tr>\n",
              "    <tr>\n",
              "      <th>131763</th>\n",
              "      <td>13</td>\n",
              "      <td>join</td>\n",
              "      <td>VB</td>\n",
              "    </tr>\n",
              "    <tr>\n",
              "      <th>131764</th>\n",
              "      <td>14</td>\n",
              "      <td>the</td>\n",
              "      <td>DT</td>\n",
              "    </tr>\n",
              "    <tr>\n",
              "      <th>131765</th>\n",
              "      <td>15</td>\n",
              "      <td>winning</td>\n",
              "      <td>VBG</td>\n",
              "    </tr>\n",
              "    <tr>\n",
              "      <th>131766</th>\n",
              "      <td>16</td>\n",
              "      <td>bidder</td>\n",
              "      <td>NN</td>\n",
              "    </tr>\n",
              "    <tr>\n",
              "      <th>131767</th>\n",
              "      <td>17</td>\n",
              "      <td>.</td>\n",
              "      <td>.</td>\n",
              "    </tr>\n",
              "  </tbody>\n",
              "</table>\n",
              "<p>131768 rows × 3 columns</p>\n",
              "</div>\n",
              "      <button class=\"colab-df-convert\" onclick=\"convertToInteractive('df-6eb8766b-06e8-46a9-a5c0-8b176f100474')\"\n",
              "              title=\"Convert this dataframe to an interactive table.\"\n",
              "              style=\"display:none;\">\n",
              "        \n",
              "  <svg xmlns=\"http://www.w3.org/2000/svg\" height=\"24px\"viewBox=\"0 0 24 24\"\n",
              "       width=\"24px\">\n",
              "    <path d=\"M0 0h24v24H0V0z\" fill=\"none\"/>\n",
              "    <path d=\"M18.56 5.44l.94 2.06.94-2.06 2.06-.94-2.06-.94-.94-2.06-.94 2.06-2.06.94zm-11 1L8.5 8.5l.94-2.06 2.06-.94-2.06-.94L8.5 2.5l-.94 2.06-2.06.94zm10 10l.94 2.06.94-2.06 2.06-.94-2.06-.94-.94-2.06-.94 2.06-2.06.94z\"/><path d=\"M17.41 7.96l-1.37-1.37c-.4-.4-.92-.59-1.43-.59-.52 0-1.04.2-1.43.59L10.3 9.45l-7.72 7.72c-.78.78-.78 2.05 0 2.83L4 21.41c.39.39.9.59 1.41.59.51 0 1.02-.2 1.41-.59l7.78-7.78 2.81-2.81c.8-.78.8-2.07 0-2.86zM5.41 20L4 18.59l7.72-7.72 1.47 1.35L5.41 20z\"/>\n",
              "  </svg>\n",
              "      </button>\n",
              "      \n",
              "  <style>\n",
              "    .colab-df-container {\n",
              "      display:flex;\n",
              "      flex-wrap:wrap;\n",
              "      gap: 12px;\n",
              "    }\n",
              "\n",
              "    .colab-df-convert {\n",
              "      background-color: #E8F0FE;\n",
              "      border: none;\n",
              "      border-radius: 50%;\n",
              "      cursor: pointer;\n",
              "      display: none;\n",
              "      fill: #1967D2;\n",
              "      height: 32px;\n",
              "      padding: 0 0 0 0;\n",
              "      width: 32px;\n",
              "    }\n",
              "\n",
              "    .colab-df-convert:hover {\n",
              "      background-color: #E2EBFA;\n",
              "      box-shadow: 0px 1px 2px rgba(60, 64, 67, 0.3), 0px 1px 3px 1px rgba(60, 64, 67, 0.15);\n",
              "      fill: #174EA6;\n",
              "    }\n",
              "\n",
              "    [theme=dark] .colab-df-convert {\n",
              "      background-color: #3B4455;\n",
              "      fill: #D2E3FC;\n",
              "    }\n",
              "\n",
              "    [theme=dark] .colab-df-convert:hover {\n",
              "      background-color: #434B5C;\n",
              "      box-shadow: 0px 1px 3px 1px rgba(0, 0, 0, 0.15);\n",
              "      filter: drop-shadow(0px 1px 2px rgba(0, 0, 0, 0.3));\n",
              "      fill: #FFFFFF;\n",
              "    }\n",
              "  </style>\n",
              "\n",
              "      <script>\n",
              "        const buttonEl =\n",
              "          document.querySelector('#df-6eb8766b-06e8-46a9-a5c0-8b176f100474 button.colab-df-convert');\n",
              "        buttonEl.style.display =\n",
              "          google.colab.kernel.accessAllowed ? 'block' : 'none';\n",
              "\n",
              "        async function convertToInteractive(key) {\n",
              "          const element = document.querySelector('#df-6eb8766b-06e8-46a9-a5c0-8b176f100474');\n",
              "          const dataTable =\n",
              "            await google.colab.kernel.invokeFunction('convertToInteractive',\n",
              "                                                     [key], {});\n",
              "          if (!dataTable) return;\n",
              "\n",
              "          const docLinkHtml = 'Like what you see? Visit the ' +\n",
              "            '<a target=\"_blank\" href=https://colab.research.google.com/notebooks/data_table.ipynb>data table notebook</a>'\n",
              "            + ' to learn more about interactive tables.';\n",
              "          element.innerHTML = '';\n",
              "          dataTable['output_type'] = 'display_data';\n",
              "          await google.colab.output.renderOutput(dataTable, element);\n",
              "          const docLink = document.createElement('div');\n",
              "          docLink.innerHTML = docLinkHtml;\n",
              "          element.appendChild(docLink);\n",
              "        }\n",
              "      </script>\n",
              "    </div>\n",
              "  </div>\n",
              "  "
            ]
          },
          "metadata": {},
          "execution_count": 25
        }
      ],
      "source": [
        "dev"
      ]
    },
    {
      "cell_type": "code",
      "execution_count": 26,
      "metadata": {
        "id": "hDjkZuDCUg-q"
      },
      "outputs": [],
      "source": [
        "def greedy(tp_dict, ep_dict, start_prob, sentences, pos_tags):\n",
        "  predicted_tags=[]\n",
        "  predicted_scores=[]\n",
        "\n",
        "  for sentence in sentences:\n",
        "    prev=None\n",
        "    sentence_tags=[]\n",
        "    sentence_scores=[]\n",
        "\n",
        "    for word_index in range(len(sentence)):\n",
        "      max=-1\n",
        "\n",
        "      for i, tag in enumerate(pos_tags):\n",
        "        result=1\n",
        "\n",
        "        if str(tag+\" \"+sentence[word_index][0]) in ep_dict:\n",
        "          result*=ep_dict[tag+\" \"+sentence[word_index][0]]\n",
        "        else:\n",
        "          result*=ep_dict[tag+\" \"+\"<unk>\"]\n",
        "\n",
        "        if word_index!=0:\n",
        "          if str(prev+\" \"+tag) in tp_dict:\n",
        "            result*=tp_dict[prev+\" \"+tag]\n",
        "        else:\n",
        "          result*=start_prob[tag]\n",
        "\n",
        "        if(result>max):\n",
        "          max=result\n",
        "          temp=tag\n",
        "\n",
        "      prev=temp\n",
        "      sentence_tags.append(prev)\n",
        "      sentence_scores.append(max)\n",
        "\n",
        "    predicted_tags.append(sentence_tags)\n",
        "    predicted_scores.append(sentence_scores)\n",
        "\n",
        "  return predicted_tags, predicted_scores"
      ]
    },
    {
      "cell_type": "code",
      "execution_count": 27,
      "metadata": {
        "id": "bB_JEtJNZw0u"
      },
      "outputs": [],
      "source": [
        "def accuracy(original_pos, predicted_pos):\n",
        "  count=0\n",
        "  count_tag=0\n",
        "\n",
        "  for i in range(len(original_pos)):\n",
        "    for j in range(len(original_pos[i])):\n",
        "      if original_pos[i][j][1] == predicted_pos[i][j]:\n",
        "        count_tag+=1\n",
        "      count+=1\n",
        "  return ((count_tag*100)/count)"
      ]
    },
    {
      "cell_type": "code",
      "execution_count": 28,
      "metadata": {
        "id": "PBmypzXqazJR"
      },
      "outputs": [],
      "source": [
        "predicted_tags, predicted_scores = greedy(tp_dict, ep_dict, start_prob, dev_sentences, pos_tags)"
      ]
    },
    {
      "cell_type": "code",
      "execution_count": 29,
      "metadata": {
        "colab": {
          "base_uri": "https://localhost:8080/"
        },
        "id": "7HLKDvNc0Twp",
        "outputId": "0db4bdaa-62f3-4d42-864b-987314485961"
      },
      "outputs": [
        {
          "output_type": "stream",
          "name": "stdout",
          "text": [
            "Accuracy for greedy algorithm is 92.99450549450549\n"
          ]
        }
      ],
      "source": [
        "print(\"Accuracy for greedy algorithm is \" + str(accuracy(dev_sentences, predicted_tags)))"
      ]
    },
    {
      "cell_type": "markdown",
      "metadata": {
        "id": "95Q2Z1X5fM0T"
      },
      "source": [
        "TASK #4 VITERBI DECODING"
      ]
    },
    {
      "cell_type": "code",
      "execution_count": 30,
      "metadata": {
        "id": "n-SYcebxMiS6"
      },
      "outputs": [],
      "source": [
        "def viterbi(tp_dict, ep_dict, start_prob, sentences, pos_tags):\n",
        "  \n",
        "  dp_matrix=[]\n",
        "  predicted_tags_dict=[]\n",
        "\n",
        "  for sentence in sentences:\n",
        "    n = len(pos_tags)\n",
        "    dp_probab = []\n",
        "    decode_string = {}\n",
        "    for tag in pos_tags:\n",
        "      if str(tag + \" \" + sentence[0][0]) in ep_dict:\n",
        "        dp_probab.append(start_prob[tag] * ep_dict[tag + \" \" + sentence[0][0]])\n",
        "      else:\n",
        "        dp_probab.append(start_prob[tag] * ep_dict[tag + \" \" + \"<unk>\"])\n",
        "    for i, l in enumerate(sentence):\n",
        "      word = l[0]\n",
        "      if i == 0: continue\n",
        "      temp_list = [None] * n\n",
        "      for j,tag in enumerate(pos_tags):\n",
        "        max = -1\n",
        "        result = 1\n",
        "        for k, prob in enumerate(dp_probab):\n",
        "          if str(pos_tags[k] + \" \" + tag) in tp_dict and str(tag + \" \" + word) in ep_dict:\n",
        "            result = prob * tp_dict[pos_tags[k] + \" \" + tag] * ep_dict[tag + \" \" + word]\n",
        "          else:\n",
        "            result = prob * tp_dict[pos_tags[k] + \" \" + tag] * ep_dict[ tag + \" \" + \"<unk>\"]\n",
        "          if(max < result):\n",
        "            max = result\n",
        "            decode_string[str(i) + \" \" + tag] = [pos_tags[k], result]\n",
        "        temp_list[j] = max\n",
        "      dp_probab = [x for x in temp_list]\n",
        "    dp_matrix.append(dp_probab)\n",
        "    predicted_tags_dict.append(decode_string)\n",
        "\n",
        "  predicted_tags=[]\n",
        "  predicted_tags_scores=[]\n",
        "  for decode_string, dp_probab in zip(predicted_tags_dict, dp_matrix):\n",
        "    no_of_tags = len(pos_tags)\n",
        "    n = len(decode_string) // no_of_tags\n",
        "    predicted_tag = []\n",
        "    score = []\n",
        "    x = pos_tags[np.argmax(np.asarray(dp_probab))]\n",
        "    predicted_tag.append(x)\n",
        "    for i in range(n, 0, -1):\n",
        "        val = decode_string[str(i) + ' ' + x][1]\n",
        "        x = decode_string[str(i) + ' ' + x][0]\n",
        "        predicted_tag = [x] + predicted_tag\n",
        "        score =  [val] + score\n",
        "    predicted_tags.append(predicted_tag)\n",
        "    predicted_tags_scores.append(score)\n",
        "  return predicted_tags, predicted_tags_scores"
      ]
    },
    {
      "cell_type": "code",
      "execution_count": 31,
      "metadata": {
        "id": "GLU1wWRGkJIE"
      },
      "outputs": [],
      "source": [
        "predicted_tags, predicted_tags_scores = viterbi(tp_dict, ep_dict, start_prob, dev_sentences, pos_tags)"
      ]
    },
    {
      "cell_type": "code",
      "execution_count": 32,
      "metadata": {
        "colab": {
          "base_uri": "https://localhost:8080/"
        },
        "id": "07RcJlgzfZU3",
        "outputId": "a09d7139-db06-4c59-df67-c7a7bf1c5a6c"
      },
      "outputs": [
        {
          "output_type": "stream",
          "name": "stdout",
          "text": [
            "Accuracy for viterbi algorithm is 94.40835407686237\n"
          ]
        }
      ],
      "source": [
        "print(\"Accuracy for viterbi algorithm is \" + str(accuracy(dev_sentences, predicted_tags)))"
      ]
    },
    {
      "cell_type": "markdown",
      "metadata": {
        "id": "suIt6V-a1G2p"
      },
      "source": [
        "TEST OUTPUTS"
      ]
    },
    {
      "cell_type": "code",
      "execution_count": 33,
      "metadata": {
        "id": "Swx2WKh1nr_t"
      },
      "outputs": [],
      "source": [
        "test=pd.read_csv('/content/drive/My Drive/Colab Notebooks/HW2-CSCI544/test', sep='\\t', names = ['index', 'word'] )"
      ]
    },
    {
      "cell_type": "code",
      "execution_count": 34,
      "metadata": {
        "id": "yK_fbQK-0vlc"
      },
      "outputs": [],
      "source": [
        "test_sentences = []\n",
        "test_sentence = []\n",
        "ignore_first_sentence=1\n",
        "\n",
        "for _ in test.itertuples():\n",
        "  if _.index==1:\n",
        "    if ignore_first_sentence==0:\n",
        "      test_sentences.append(test_sentence)\n",
        "      test_sentence = []\n",
        "  ignore_first_sentence=0\n",
        "  test_sentence.append((_.word))\n",
        "\n",
        "test_sentences.append(test_sentence)"
      ]
    },
    {
      "cell_type": "code",
      "execution_count": 35,
      "metadata": {
        "id": "b53xyebdzZr2"
      },
      "outputs": [],
      "source": [
        "test_greedy_tags, test_greedy_scores = greedy(tp_dict, ep_dict, start_prob, test_sentences, pos_tags)"
      ]
    },
    {
      "cell_type": "code",
      "execution_count": 36,
      "metadata": {
        "id": "q8f_dE84c7eL"
      },
      "outputs": [],
      "source": [
        "def output_file(test_inputs, test_outputs):\n",
        "    res = []\n",
        "    for i in range(len(test_inputs)):\n",
        "        s = []\n",
        "        for j in range(len(test_inputs[i])):\n",
        "            s.append((str(j+1), test_inputs[i][j], test_outputs[i][j]))\n",
        "        res.append(s)\n",
        "    \n",
        "    with open(\"greedy.out\", 'w') as f:\n",
        "        for ele in res:\n",
        "            f.write(\"\\n\".join([str(item[0]) + \"\\t\" + item[1] + \"\\t\" + item[2] for item in ele]))\n",
        "            f.write(\"\\n\\n\")"
      ]
    },
    {
      "cell_type": "code",
      "execution_count": 37,
      "metadata": {
        "id": "smvn50rNc-ys"
      },
      "outputs": [],
      "source": [
        "output_file(test_sentences, test_greedy_tags)"
      ]
    },
    {
      "cell_type": "code",
      "execution_count": 38,
      "metadata": {
        "id": "ZMm02GxuZ8vX"
      },
      "outputs": [],
      "source": [
        "def output_file(test_inputs, test_outputs):\n",
        "    res = []\n",
        "    for i in range(len(test_inputs)):\n",
        "        s = []\n",
        "        for j in range(len(test_inputs[i])):\n",
        "            s.append((str(j+1), test_inputs[i][j], test_outputs[i][j]))\n",
        "        res.append(s)\n",
        "    \n",
        "    with open(\"viterbi.out\", 'w') as f:\n",
        "        for ele in res:\n",
        "            f.write(\"\\n\".join([str(item[0]) + \"\\t\" + item[1] + \"\\t\" + item[2] for item in ele]))\n",
        "            f.write(\"\\n\\n\")"
      ]
    },
    {
      "cell_type": "code",
      "execution_count": 39,
      "metadata": {
        "id": "wQ1sF6HY0NiT"
      },
      "outputs": [],
      "source": [
        "test_viterbi_tags, test_viterbi_scores = viterbi(tp_dict, ep_dict, start_prob, test_sentences, pos_tags)"
      ]
    },
    {
      "cell_type": "code",
      "execution_count": 40,
      "metadata": {
        "id": "jsTNZUJNa7j_"
      },
      "outputs": [],
      "source": [
        "output_file(test_sentences, test_viterbi_tags)"
      ]
    }
  ],
  "metadata": {
    "accelerator": "GPU",
    "colab": {
      "provenance": []
    },
    "gpuClass": "standard",
    "kernelspec": {
      "display_name": "Python 3",
      "name": "python3"
    },
    "language_info": {
      "name": "python"
    }
  },
  "nbformat": 4,
  "nbformat_minor": 0
}