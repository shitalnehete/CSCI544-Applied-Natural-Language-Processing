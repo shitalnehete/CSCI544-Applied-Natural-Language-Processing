{
  "nbformat": 4,
  "nbformat_minor": 0,
  "metadata": {
    "colab": {
      "provenance": []
    },
    "kernelspec": {
      "name": "python3",
      "display_name": "Python 3"
    },
    "language_info": {
      "name": "python"
    }
  },
  "cells": [
    {
      "cell_type": "markdown",
      "source": [
        "## Libraries"
      ],
      "metadata": {
        "id": "-b6fK6ZSiHe-"
      }
    },
    {
      "cell_type": "code",
      "source": [
        "!pip install contractions"
      ],
      "metadata": {
        "colab": {
          "base_uri": "https://localhost:8080/"
        },
        "id": "1ieZqIIqqO93",
        "outputId": "2e342fb3-7bd7-4e09-8800-3a17c73c9e8c"
      },
      "execution_count": 1,
      "outputs": [
        {
          "output_type": "stream",
          "name": "stdout",
          "text": [
            "Looking in indexes: https://pypi.org/simple, https://us-python.pkg.dev/colab-wheels/public/simple/\n",
            "Requirement already satisfied: contractions in /usr/local/lib/python3.8/dist-packages (0.1.73)\n",
            "Requirement already satisfied: textsearch>=0.0.21 in /usr/local/lib/python3.8/dist-packages (from contractions) (0.0.24)\n",
            "Requirement already satisfied: pyahocorasick in /usr/local/lib/python3.8/dist-packages (from textsearch>=0.0.21->contractions) (2.0.0)\n",
            "Requirement already satisfied: anyascii in /usr/local/lib/python3.8/dist-packages (from textsearch>=0.0.21->contractions) (0.3.1)\n"
          ]
        }
      ]
    },
    {
      "cell_type": "code",
      "execution_count": 2,
      "metadata": {
        "id": "YdQVWyP9L-zC"
      },
      "outputs": [],
      "source": [
        "import pandas as pd\n",
        "import numpy as np\n",
        "import nltk\n",
        "import re\n",
        "import contractions"
      ]
    },
    {
      "cell_type": "code",
      "source": [
        "nltk.download('wordnet')\n",
        "nltk.download('stopwords')\n",
        "nltk.download('punkt')\n",
        "nltk.download('omw-1.4')\n",
        "nltk.download('averaged_perceptron_tagger')"
      ],
      "metadata": {
        "colab": {
          "base_uri": "https://localhost:8080/"
        },
        "id": "QoKMe07uhRLq",
        "outputId": "21f297ff-3af8-40c5-a80c-e6cd6abe31df"
      },
      "execution_count": 3,
      "outputs": [
        {
          "output_type": "stream",
          "name": "stderr",
          "text": [
            "[nltk_data] Downloading package wordnet to /root/nltk_data...\n",
            "[nltk_data]   Package wordnet is already up-to-date!\n",
            "[nltk_data] Downloading package stopwords to /root/nltk_data...\n",
            "[nltk_data]   Package stopwords is already up-to-date!\n",
            "[nltk_data] Downloading package punkt to /root/nltk_data...\n",
            "[nltk_data]   Package punkt is already up-to-date!\n",
            "[nltk_data] Downloading package omw-1.4 to /root/nltk_data...\n",
            "[nltk_data]   Package omw-1.4 is already up-to-date!\n",
            "[nltk_data] Downloading package averaged_perceptron_tagger to\n",
            "[nltk_data]     /root/nltk_data...\n",
            "[nltk_data]   Package averaged_perceptron_tagger is already up-to-\n",
            "[nltk_data]       date!\n"
          ]
        },
        {
          "output_type": "execute_result",
          "data": {
            "text/plain": [
              "True"
            ]
          },
          "metadata": {},
          "execution_count": 3
        }
      ]
    },
    {
      "cell_type": "code",
      "source": [
        "from nltk.corpus import stopwords, wordnet\n",
        "from nltk.tokenize import word_tokenize\n",
        "from nltk.stem import WordNetLemmatizer"
      ],
      "metadata": {
        "id": "Xbo1jgnRnUL_"
      },
      "execution_count": 4,
      "outputs": []
    },
    {
      "cell_type": "code",
      "source": [
        "from sklearn.feature_extraction.text import TfidfVectorizer\n",
        "from sklearn.model_selection import train_test_split\n",
        "from sklearn import metrics, svm\n",
        "from sklearn.linear_model import Perceptron, LogisticRegression\n",
        "from sklearn.naive_bayes import MultinomialNB"
      ],
      "metadata": {
        "id": "bgakhjCz1fD5"
      },
      "execution_count": 5,
      "outputs": []
    },
    {
      "cell_type": "markdown",
      "source": [
        "## Read Data"
      ],
      "metadata": {
        "id": "oekEsmFrim_g"
      }
    },
    {
      "cell_type": "code",
      "source": [
        "from google.colab import drive\n",
        "drive.mount(\"/content/drive\")\n",
        "df=pd.read_table('/content/drive/My Drive/Colab Notebooks/amazon_reviews_us_Beauty_v1_00.tsv', on_bad_lines='skip', usecols=['review_body', 'star_rating'])"
      ],
      "metadata": {
        "colab": {
          "base_uri": "https://localhost:8080/"
        },
        "id": "BWw89zOcMNvH",
        "outputId": "8ebc2593-7581-4958-8e60-5f81465cca75"
      },
      "execution_count": 6,
      "outputs": [
        {
          "output_type": "stream",
          "name": "stdout",
          "text": [
            "Drive already mounted at /content/drive; to attempt to forcibly remount, call drive.mount(\"/content/drive\", force_remount=True).\n"
          ]
        },
        {
          "output_type": "stream",
          "name": "stderr",
          "text": [
            "/usr/local/lib/python3.8/dist-packages/IPython/core/interactiveshell.py:3326: DtypeWarning: Columns (7) have mixed types.Specify dtype option on import or set low_memory=False.\n",
            "  exec(code_obj, self.user_global_ns, self.user_ns)\n"
          ]
        }
      ]
    },
    {
      "cell_type": "code",
      "source": [
        "def avg_char_count():\n",
        "  df['review_body_character_count'] = df['review_body'].str.len()\n",
        "  return str(df['review_body_character_count'].mean())"
      ],
      "metadata": {
        "id": "nlmsa_yxhuxM"
      },
      "execution_count": 7,
      "outputs": []
    },
    {
      "cell_type": "code",
      "source": [
        "df['review_body']=df['review_body'].apply(str)"
      ],
      "metadata": {
        "id": "xp3zkjMR5Ob7"
      },
      "execution_count": 8,
      "outputs": []
    },
    {
      "cell_type": "code",
      "source": [
        "df1 = df.query(\"star_rating == '1' | star_rating == '2'\").sample(n=20000)\n",
        "df1 = df1.assign(rating_class=1)"
      ],
      "metadata": {
        "id": "wNZCOBRlOkF7"
      },
      "execution_count": 9,
      "outputs": []
    },
    {
      "cell_type": "code",
      "source": [
        "df2=df.query(\"star_rating == '3'\").sample(n=20000)\n",
        "df2 = df2.assign(rating_class=2)"
      ],
      "metadata": {
        "id": "hoCFhpSqQSVL"
      },
      "execution_count": 10,
      "outputs": []
    },
    {
      "cell_type": "code",
      "source": [
        "df3=df.query(\"star_rating == '4' | star_rating == '5'\").sample(n=20000)\n",
        "df3 = df3.assign(rating_class=3)"
      ],
      "metadata": {
        "id": "23PqxtjBP3vm"
      },
      "execution_count": 11,
      "outputs": []
    },
    {
      "cell_type": "code",
      "source": [
        "df = pd.concat([df1[['star_rating', 'review_body', 'rating_class']], df2[['star_rating', 'review_body', 'rating_class']], df3[['star_rating', 'review_body', 'rating_class']]])"
      ],
      "metadata": {
        "id": "4lylCPS-OkM0"
      },
      "execution_count": 12,
      "outputs": []
    },
    {
      "cell_type": "markdown",
      "source": [
        "## Data Cleaning"
      ],
      "metadata": {
        "id": "Avh6a_XCiw-9"
      }
    },
    {
      "cell_type": "code",
      "source": [
        "before_cleaning_count = avg_char_count()"
      ],
      "metadata": {
        "id": "NW1bQQSGqg4a"
      },
      "execution_count": 13,
      "outputs": []
    },
    {
      "cell_type": "code",
      "source": [
        "df['review_body'] = df['review_body'].str.lower()"
      ],
      "metadata": {
        "id": "IsBAaamJOkQD"
      },
      "execution_count": 14,
      "outputs": []
    },
    {
      "cell_type": "code",
      "source": [
        "def cleaning_html_url(string):\n",
        "  string = re.sub('<.*?>','',string)\n",
        "  string = re.sub('https?://\\S+|www\\.\\S+','', string)\n",
        "  return string\n",
        "df['review_body']=df['review_body'].apply(cleaning_html_url)"
      ],
      "metadata": {
        "id": "2s1DCsJTb3-V"
      },
      "execution_count": 15,
      "outputs": []
    },
    {
      "cell_type": "code",
      "source": [
        "def cleaning_non_alpha_spaces(string):\n",
        "  string = re.sub(r'[^a-z0-9\\s]', '', string)\n",
        "  string = re.sub('\\n', '', string)\n",
        "  string = re.sub(r'\\s+', ' ', string)\n",
        "  string = re.sub('\\w*\\d\\w*', '', string)\n",
        "  return string\n",
        "df['review_body']=df['review_body'].apply(cleaning_non_alpha_spaces)"
      ],
      "metadata": {
        "id": "kRJi0qdGoNgi"
      },
      "execution_count": 16,
      "outputs": []
    },
    {
      "cell_type": "code",
      "source": [
        "df['review_body']=df['review_body'].str.strip()"
      ],
      "metadata": {
        "id": "P8t3I4aEaR2C"
      },
      "execution_count": 17,
      "outputs": []
    },
    {
      "cell_type": "code",
      "source": [
        "df['review_body']=df['review_body'].apply(lambda s : contractions.fix(s))"
      ],
      "metadata": {
        "id": "PyPnjtbNlw8f"
      },
      "execution_count": 18,
      "outputs": []
    },
    {
      "cell_type": "code",
      "source": [
        "after_cleaning_count = avg_char_count()"
      ],
      "metadata": {
        "id": "LgaDD2v3nS_t"
      },
      "execution_count": 19,
      "outputs": []
    },
    {
      "cell_type": "code",
      "source": [
        "print(before_cleaning_count + \", \" + after_cleaning_count)"
      ],
      "metadata": {
        "colab": {
          "base_uri": "https://localhost:8080/"
        },
        "id": "dYgFIVZJeCR8",
        "outputId": "35184467-7bce-4bf5-c9fd-5fc7e1de6ee4"
      },
      "execution_count": 20,
      "outputs": [
        {
          "output_type": "stream",
          "name": "stdout",
          "text": [
            "189.75916666666666, 181.91503333333333\n"
          ]
        }
      ]
    },
    {
      "cell_type": "markdown",
      "source": [
        "## Data Preprocessing"
      ],
      "metadata": {
        "id": "EYB7w5Dui1aQ"
      }
    },
    {
      "cell_type": "code",
      "source": [
        "before_preprocessing_count = avg_char_count()"
      ],
      "metadata": {
        "id": "vycnaeqbqn-0"
      },
      "execution_count": 21,
      "outputs": []
    },
    {
      "cell_type": "code",
      "source": [
        "def stop_words(text):\n",
        "  tokens = word_tokenize(text.lower())\n",
        "  english_stopwords = stopwords.words('english')\n",
        "  tokens_wo_stopwords = [t for t in tokens if t not in english_stopwords]\n",
        "  return \" \".join(tokens_wo_stopwords)\n",
        "  \n",
        "df['review_body'] = df['review_body'].apply(stop_words)\n"
      ],
      "metadata": {
        "id": "2nE5KUPNqQjV"
      },
      "execution_count": 22,
      "outputs": []
    },
    {
      "cell_type": "code",
      "source": [
        "lemmatizer = WordNetLemmatizer()"
      ],
      "metadata": {
        "id": "RWvT_AmOt6vs"
      },
      "execution_count": 23,
      "outputs": []
    },
    {
      "cell_type": "code",
      "source": [
        "def nltk_tag_to_wordnet_tag(nltk_tag):\n",
        "    if nltk_tag.startswith('J'):\n",
        "        return wordnet.ADJ\n",
        "    elif nltk_tag.startswith('V'):\n",
        "        return wordnet.VERB\n",
        "    elif nltk_tag.startswith('N'):\n",
        "        return wordnet.NOUN\n",
        "    elif nltk_tag.startswith('R'):\n",
        "        return wordnet.ADV\n",
        "    else:          \n",
        "        return None"
      ],
      "metadata": {
        "id": "g3iMtZlVriNy"
      },
      "execution_count": 24,
      "outputs": []
    },
    {
      "cell_type": "code",
      "source": [
        "def lemmatize_sentence(sentence):\n",
        "    nltk_tagged = nltk.pos_tag(nltk.word_tokenize(sentence)) \n",
        "    wordnet_tagged = map(lambda x: (x[0], nltk_tag_to_wordnet_tag(x[1])), nltk_tagged)\n",
        "    lemmatized_sentence = []\n",
        "    for word, tag in wordnet_tagged:\n",
        "        if tag is None:\n",
        "            lemmatized_sentence.append(word)\n",
        "        else:        \n",
        "            lemmatized_sentence.append(lemmatizer.lemmatize(word, tag))\n",
        "    return \" \".join(lemmatized_sentence)"
      ],
      "metadata": {
        "id": "jC_QnyearCE0"
      },
      "execution_count": 25,
      "outputs": []
    },
    {
      "cell_type": "code",
      "source": [
        "df['review_body'] = df['review_body'].apply(lemmatize_sentence)"
      ],
      "metadata": {
        "id": "NwBVPs5WptIz"
      },
      "execution_count": 26,
      "outputs": []
    },
    {
      "cell_type": "code",
      "source": [
        "after_perprocessing_count = avg_char_count()"
      ],
      "metadata": {
        "id": "AtTPj5HDretp"
      },
      "execution_count": 27,
      "outputs": []
    },
    {
      "cell_type": "code",
      "source": [
        "print(before_preprocessing_count + \", \" + after_perprocessing_count)"
      ],
      "metadata": {
        "colab": {
          "base_uri": "https://localhost:8080/"
        },
        "id": "Tke1otcGdlyv",
        "outputId": "e964bdbd-e535-4774-e799-0fb5cd867d6a"
      },
      "execution_count": 28,
      "outputs": [
        {
          "output_type": "stream",
          "name": "stdout",
          "text": [
            "181.91503333333333, 106.35263333333333\n"
          ]
        }
      ]
    },
    {
      "cell_type": "markdown",
      "source": [
        "## TF-IDF Feature Extraction"
      ],
      "metadata": {
        "id": "g1pL3WB3i8xx"
      }
    },
    {
      "cell_type": "code",
      "source": [
        "vectorizer = TfidfVectorizer()\n",
        "X = vectorizer.fit_transform(df['review_body'])"
      ],
      "metadata": {
        "id": "gJkOvL-56FDW"
      },
      "execution_count": 29,
      "outputs": []
    },
    {
      "cell_type": "code",
      "source": [
        "vectorizer.get_feature_names_out()"
      ],
      "metadata": {
        "colab": {
          "base_uri": "https://localhost:8080/"
        },
        "id": "STqiaBu19H5I",
        "outputId": "08127073-9317-48e3-bd48-d29be09fa937"
      },
      "execution_count": 30,
      "outputs": [
        {
          "output_type": "execute_result",
          "data": {
            "text/plain": [
              "array(['aa', 'aaa', 'aaaa', ..., 'zyloo', 'zz', 'zzzquil'], dtype=object)"
            ]
          },
          "metadata": {},
          "execution_count": 30
        }
      ]
    },
    {
      "cell_type": "code",
      "source": [
        "X.shape"
      ],
      "metadata": {
        "colab": {
          "base_uri": "https://localhost:8080/"
        },
        "id": "OTUB2ffh9Qwh",
        "outputId": "6f8cc59d-89d4-4a86-f958-028beaa45988"
      },
      "execution_count": 31,
      "outputs": [
        {
          "output_type": "execute_result",
          "data": {
            "text/plain": [
              "(60000, 35208)"
            ]
          },
          "metadata": {},
          "execution_count": 31
        }
      ]
    },
    {
      "cell_type": "code",
      "source": [
        "Y = df['rating_class']"
      ],
      "metadata": {
        "id": "poMOVG7espq-"
      },
      "execution_count": 32,
      "outputs": []
    },
    {
      "cell_type": "code",
      "source": [
        "def printMatrix(matrix):\n",
        "  print(str(matrix['1']['precision']) + \", \" + str(matrix['1']['recall']) + \", \" + str(matrix['1']['f1-score']))\n",
        "  print(str(matrix['2']['precision']) + \", \" + str(matrix['2']['recall']) + \", \" + str(matrix['2']['f1-score']))\n",
        "  print(str(matrix['3']['precision']) + \", \" + str(matrix['3']['recall']) + \", \" + str(matrix['3']['f1-score']))\n",
        "  print(str(matrix['macro avg']['precision']) + \", \" + str(matrix['macro avg']['recall']) + \", \" + str(matrix['macro avg']['f1-score']))"
      ],
      "metadata": {
        "id": "f64LTC1Ctv0X"
      },
      "execution_count": 33,
      "outputs": []
    },
    {
      "cell_type": "code",
      "source": [
        "X_train, X_test, Y_train, Y_test = train_test_split(X, Y, test_size=0.2, random_state = 42)"
      ],
      "metadata": {
        "id": "hG5DX7mss7f-"
      },
      "execution_count": 34,
      "outputs": []
    },
    {
      "cell_type": "markdown",
      "source": [
        "## Perceptron"
      ],
      "metadata": {
        "id": "mGbuTXcGjC-z"
      }
    },
    {
      "cell_type": "code",
      "source": [
        "perceptron = Perceptron(n_jobs = -1, max_iter = 10000, random_state = 10)\n",
        "fit_model = perceptron.fit(X_train,Y_train)\n",
        "Y_pred = perceptron.predict(X_test)"
      ],
      "metadata": {
        "id": "G46y143buVUZ"
      },
      "execution_count": 35,
      "outputs": []
    },
    {
      "cell_type": "code",
      "source": [
        "printMatrix(metrics.classification_report(Y_test, Y_pred, output_dict=True))"
      ],
      "metadata": {
        "colab": {
          "base_uri": "https://localhost:8080/"
        },
        "id": "Uw0DdYhcueP8",
        "outputId": "bace096b-d1a5-4dd4-8b6e-b9ec78dcdbe3"
      },
      "execution_count": 36,
      "outputs": [
        {
          "output_type": "stream",
          "name": "stdout",
          "text": [
            "0.5956229793583686, 0.6043401463537724, 0.5999498997995992\n",
            "0.49376776732998034, 0.5625311410064773, 0.525911261208804\n",
            "0.7087492660011744, 0.6000497141436739, 0.6498855835240275\n",
            "0.5993800042298411, 0.5889736671679745, 0.5919155815108103\n"
          ]
        }
      ]
    },
    {
      "cell_type": "markdown",
      "source": [
        "## SVM"
      ],
      "metadata": {
        "id": "q71y8WUAjGOg"
      }
    },
    {
      "cell_type": "code",
      "source": [
        "svmClassifier = svm.LinearSVC(C = 0.01, multi_class=\"ovr\", random_state = 10)\n",
        "svmClassifier.fit(X_train, Y_train)\n",
        "Y_pred = svmClassifier.predict(X_test)"
      ],
      "metadata": {
        "id": "jMqy9SLTwmI4"
      },
      "execution_count": 37,
      "outputs": []
    },
    {
      "cell_type": "code",
      "source": [
        "printMatrix(metrics.classification_report(Y_test, Y_pred, output_dict=True))"
      ],
      "metadata": {
        "colab": {
          "base_uri": "https://localhost:8080/"
        },
        "id": "8Gx3SM8iw7pF",
        "outputId": "af6581a3-de7d-48e4-fa22-40a16ef498bc"
      },
      "execution_count": 38,
      "outputs": [
        {
          "output_type": "stream",
          "name": "stdout",
          "text": [
            "0.6424043715846994, 0.7416098914963412, 0.6884516280159287\n",
            "0.618469358938153, 0.5455904334828101, 0.5797485109199205\n",
            "0.7518022657054583, 0.7258264976385782, 0.7385860629821677\n",
            "0.6708919987427703, 0.6710089408725765, 0.6689287339726723\n"
          ]
        }
      ]
    },
    {
      "cell_type": "markdown",
      "source": [
        "## Logistic Regression"
      ],
      "metadata": {
        "id": "nEw2tX62jIHv"
      }
    },
    {
      "cell_type": "code",
      "source": [
        "logisticRegressor = LogisticRegression(C = 0.4, solver = 'sag', random_state = 10)\n",
        "logisticRegressor.fit(X_train, Y_train)\n",
        "Y_pred = logisticRegressor.predict(X_test)"
      ],
      "metadata": {
        "id": "YuGS_JaNxClP"
      },
      "execution_count": 39,
      "outputs": []
    },
    {
      "cell_type": "code",
      "source": [
        "printMatrix(metrics.classification_report(Y_test, Y_pred, output_dict=True))"
      ],
      "metadata": {
        "colab": {
          "base_uri": "https://localhost:8080/"
        },
        "id": "QpJ2XVeJxuSp",
        "outputId": "bd5128c5-c67b-41cf-b379-de33227a8502"
      },
      "execution_count": 40,
      "outputs": [
        {
          "output_type": "stream",
          "name": "stdout",
          "text": [
            "0.6738197424892703, 0.7130961392884179, 0.6929018021331371\n",
            "0.6035060582624387, 0.583208769307424, 0.5931838337767643\n",
            "0.7619047619047619, 0.7437235893611732, 0.7527044025157232\n",
            "0.6797435208854904, 0.680009499319005, 0.6795966794752083\n"
          ]
        }
      ]
    },
    {
      "cell_type": "markdown",
      "source": [
        "## Multinomial Naive Bayes"
      ],
      "metadata": {
        "id": "zw8b2z6DjMEt"
      }
    },
    {
      "cell_type": "code",
      "source": [
        "NBClassifier = MultinomialNB()\n",
        "NBClassifier.fit(X_train, Y_train)\n",
        "Y_pred = NBClassifier.predict(X_test)"
      ],
      "metadata": {
        "id": "zlaO3QB6x6mk"
      },
      "execution_count": 41,
      "outputs": []
    },
    {
      "cell_type": "code",
      "source": [
        "printMatrix(metrics.classification_report(Y_test, Y_pred, output_dict=True))"
      ],
      "metadata": {
        "colab": {
          "base_uri": "https://localhost:8080/"
        },
        "id": "9yNtqM_ByMh1",
        "outputId": "e531234a-63c5-405a-c7e8-2df8cfec62ee"
      },
      "execution_count": 42,
      "outputs": [
        {
          "output_type": "stream",
          "name": "stdout",
          "text": [
            "0.694369247428262, 0.6472369417108251, 0.6699751861042184\n",
            "0.5667796610169491, 0.624813153961136, 0.5943832207607537\n",
            "0.7505797474877609, 0.7240865026099925, 0.7370951417004048\n",
            "0.6705762186443239, 0.6653788660939846, 0.6671511828551256\n"
          ]
        }
      ]
    }
  ]
}